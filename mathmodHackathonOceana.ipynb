{
  "nbformat": 4,
  "nbformat_minor": 0,
  "metadata": {
    "colab": {
      "name": "mathmodHackathonOceana",
      "provenance": [],
      "authorship_tag": "ABX9TyMcWti7ib3jwESouHsshO3S",
      "include_colab_link": true
    },
    "kernelspec": {
      "name": "python3",
      "display_name": "Python 3"
    }
  },
  "cells": [
    {
      "cell_type": "markdown",
      "metadata": {
        "id": "view-in-github",
        "colab_type": "text"
      },
      "source": [
        "<a href=\"https://colab.research.google.com/github/zeferinopanyvino/ocean_hackathon_2020/blob/main/mathmodHackathonOceana.ipynb\" target=\"_parent\"><img src=\"https://colab.research.google.com/assets/colab-badge.svg\" alt=\"Open In Colab\"/></a>"
      ]
    },
    {
      "cell_type": "markdown",
      "metadata": {
        "id": "ZICXOm4q0D5q"
      },
      "source": [
        "Hola, acá un sostén de Jupyter Notebook por google, corre muy bien y hace colaborativo.\n"
      ]
    },
    {
      "cell_type": "code",
      "metadata": {
        "id": "CFANCdlF0Tar"
      },
      "source": [
        ""
      ],
      "execution_count": null,
      "outputs": []
    }
  ]
}